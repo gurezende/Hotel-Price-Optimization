{
  "cells": [
    {
      "cell_type": "code",
      "source": [
        "#Import necessary libraries\n",
        "import pandas as pd\n",
        "import numpy as np\n",
        "from numpy import random\n",
        "from pygam import GAM, s, f\n",
        "import matplotlib.pyplot as plt\n",
        "import plotly.express as px\n",
        "import plotly.graph_objects as go\n",
        "from sklearn.model_selection import train_test_split\n",
        "from sklearn.preprocessing import LabelEncoder, StandardScaler"
      ],
      "metadata": {
        "id": "_Sv6_NLZS6Ip"
      },
      "execution_count": null,
      "outputs": []
    },
    {
      "cell_type": "markdown",
      "source": [
        "## Generate some data"
      ],
      "metadata": {
        "id": "p0Yb6ATYS-pG"
      }
    },
    {
      "cell_type": "code",
      "source": [
        "\n",
        "n_obs = 100\n",
        "# Load the sample dataset (simulated hotel booking data)\n",
        "data = {\n",
        "    'day_of_week': random.choice(['Weekday', 'Weekend'], p=[0.7, 0.3], size=n_obs),\n",
        "    'season': random.choice(['Summer', 'Fall', 'Winter', 'Spring'],p=[0.25, 0.25, 0.25, 0.25], size=n_obs),\n",
        "    'room_type': random.choice(['Standard', 'Deluxe'], p=[0.7, 0.3], size=n_obs),\n",
        "    'distance_to_attractions': random.choice([2.5, 1.0, 1.5, 2., 3.0, 0.5], size=n_obs)\n",
        "}\n",
        "df = pd.DataFrame(data)\n",
        "\n",
        "df['price'] = (100 +\n",
        "               100 * df['season'].apply(lambda x: 0.5 if x == 'Summer' else 0.45 if x == 'Fall' else -1 if x == 'Winter' else -2) +\n",
        "               100 * df['room_type'].apply(lambda x: 0 if x == 'Standard' else 0.15) +\n",
        "               100 * df['day_of_week'].apply(lambda x: 0 if x == 'Weekday' else 0.25)\n",
        "               )\n",
        "df['customer_rating'] = (2 +\n",
        "                         10 * df['room_type'].apply(lambda x: 0 if x == 'Standard' else 0.25) -\n",
        "                         (2 - df['distance_to_attractions'])).clip(0, 5)\n",
        "df['demand'] = (120 +\n",
        "                25 * df['season'].apply(lambda x: 0.5 if x == 'Summer' else -0.05)+# if x == 'Winter' else 0) +\n",
        "                -100 * df['room_type'].apply(lambda x: 0.15 if x == 'Standard' else 0) +\n",
        "                100 * df['day_of_week'].apply(lambda x: 0 if x == 'Weekday' else 0.15) +\n",
        "                -20 * df['distance_to_attractions']/100 +\n",
        "                10 * df['customer_rating']/100 +\n",
        "                -50 * df['price']/100).astype(int)\n"
      ],
      "metadata": {
        "id": "peC2Re_ZS6GT"
      },
      "execution_count": null,
      "outputs": []
    },
    {
      "cell_type": "markdown",
      "source": [
        "# Preprocess"
      ],
      "metadata": {
        "id": "fcwVpuKcTDoM"
      }
    },
    {
      "cell_type": "code",
      "source": [
        "# Preprocess the data\n",
        "categorical_features = ['day_of_week', 'season', 'room_type']\n",
        "for feature in categorical_features:\n",
        "    encoder = LabelEncoder()\n",
        "    df[feature] = encoder.fit_transform(df[feature])\n",
        "\n",
        "# Summer = 2, Fall = 0, Winter = 3, Spring = 1\n",
        "# Standard = 1, Deluxe = 0\n",
        "# Weekday = 0, Weekend = 1\n",
        "\n",
        "X = df[['day_of_week', 'season', 'room_type', 'distance_to_attractions', 'customer_rating', 'price']]\n",
        "y = df['demand']\n",
        "# X_train, X_test, y_train, y_test = train_test_split(X, y, test_size=0.2, random_state=42)\n",
        "\n",
        "numerical_features = ['distance_to_attractions', 'customer_rating', 'price']\n",
        "X_train = X.copy()\n",
        "scaler = StandardScaler()\n",
        "X_train[numerical_features] = scaler.fit_transform(X_train[numerical_features])\n"
      ],
      "metadata": {
        "id": "CPbKf3cZS6Dr"
      },
      "execution_count": null,
      "outputs": []
    },
    {
      "cell_type": "markdown",
      "source": [
        "## Fit the Model"
      ],
      "metadata": {
        "id": "eIOMjUWZTInb"
      }
    },
    {
      "cell_type": "code",
      "source": [
        "# Create a GAM model\n",
        "gam = GAM(f(0) + f(1) + f(2) + s(3) + s(4) + s(5))\n",
        "\n",
        "# Fit the model to the training data\n",
        "gam.fit(X_train, y)"
      ],
      "metadata": {
        "id": "N8LqJMPIS6BO"
      },
      "execution_count": null,
      "outputs": []
    },
    {
      "cell_type": "code",
      "source": [
        "# Define a range of possible prices\n",
        "prices = np.linspace(50, 350, 50)\n",
        "\n",
        "# Define the conditions for which to predict demand\n",
        "conditions = {\n",
        "    'day_of_week': 1,  # Weekday = 0, Weekend = 1\n",
        "    'season': 2,  # Summer = 2, Fall = 0, Winter = 3, Spring = 1\n",
        "    'room_type': 1,  # Standard = 1, Deluxe = 0\n",
        "    'distance_to_attractions': 2.0,\n",
        "    'customer_rating': 4.0\n",
        "}\n",
        "\n",
        "# Generate data for price test & predictions\n",
        "X_pred = pd.DataFrame([conditions] * len(prices))\n",
        "X_pred['price'] = prices\n",
        "X_pred = X_pred[['day_of_week', 'season', 'room_type', 'distance_to_attractions', 'customer_rating', 'price']]\n",
        "X_pred[numerical_features] = scaler.transform(X_pred[numerical_features])\n",
        "\n",
        "# Predict demand for each price point\n",
        "predicted_demand = gam.predict(X_pred)\n",
        "\n",
        "# Calculate the revenue for each price point\n",
        "revenue = prices * predicted_demand\n",
        "\n",
        "# Identify the price that maximizes revenue\n",
        "optimal_price = prices[np.argmax(revenue)]\n",
        "max_revenue = np.max(revenue)\n",
        "\n",
        "# Output the results\n",
        "print(f\"Optimal Price: {optimal_price:.2f}\")\n",
        "print(f\"Maximum Revenue: {max_revenue:.2f}\")"
      ],
      "metadata": {
        "id": "pJzsy1G0S5-b"
      },
      "execution_count": null,
      "outputs": []
    },
    {
      "cell_type": "markdown",
      "source": [
        "## Visualization"
      ],
      "metadata": {
        "id": "HSE7EJ4HTaCy"
      }
    },
    {
      "cell_type": "code",
      "source": [
        "# Visualize the predicted demand curve\n",
        "fig1 = px.line(x=prices, y=predicted_demand,\n",
        "              title='Predicted Demand Curve',\n",
        "              labels={'x': 'Price', 'y': 'Predicted Demand'},\n",
        "              width=1000, height=600)\n",
        "fig1.update_traces(line=dict(width=3))\n",
        "fig1.show()\n",
        "\n",
        "# Visualize the revenue curve\n",
        "fig2 = px.line(x=prices, y=revenue,\n",
        "              title='Revenue Curve',\n",
        "              labels={'x': 'Price', 'y': 'Revenue'},\n",
        "              width=1000, height=600)\n",
        "px.scatter(x=prices, y=revenue, title='Revenue Curve', labels={'x': 'Price', 'y': 'Revenue'})\n",
        "fig2.add_trace(go.Scatter(x=[optimal_price], y=[max_revenue], mode='markers',\n",
        "                         name='Maximum Revenue', marker=dict(color='red'), line=dict(color='blue')))\n",
        "fig2.update_traces(line=dict(width=3))\n",
        "\n",
        "fig2.show()"
      ],
      "metadata": {
        "id": "Ji43pXa3S575"
      },
      "execution_count": null,
      "outputs": []
    },
    {
      "cell_type": "markdown",
      "source": [
        "## Test price for different Seasons"
      ],
      "metadata": {
        "id": "GJjLz7-hTjq2"
      }
    },
    {
      "cell_type": "code",
      "source": [
        "# Test prices for different seasons\n",
        "X_pred = pd.DataFrame(columns=X.columns)\n",
        "optimal_prices = []\n",
        "max_revenues = []\n",
        "\n",
        "for season in [0, 1, 2, 3]:\n",
        "    conditions = {\n",
        "        'day_of_week': 1,  # Weekday = 0, Weekend = 1\n",
        "        'season': season,  # Summer = 2, Fall = 0, Winter = 3, Spring = 1\n",
        "        'room_type': 1,  # Standard = 1, Deluxe = 0\n",
        "        'distance_to_attractions': 1,\n",
        "        'customer_rating': 4.0\n",
        "    }\n",
        "    X_add = pd.DataFrame([conditions] * len(prices))\n",
        "    # Define a range of possible prices\n",
        "    prices = np.linspace(80, 350, 50)\n",
        "    X_add['price'] = prices\n",
        "    X_add[numerical_features] = scaler.transform(X_add[numerical_features])\n",
        "    predicted_demand = gam.predict(X_add)\n",
        "    X_add['demand'] = predicted_demand\n",
        "    X_add['price'] = prices\n",
        "    X_add['revenue'] = prices * predicted_demand\n",
        "    X_pred = pd.concat([X_pred, X_add])\n",
        "\n",
        "# Revenue predictions\n",
        "X_pred = X_pred[['day_of_week', 'season', 'room_type', 'distance_to_attractions', 'customer_rating', 'price', 'demand', 'revenue']]\n",
        "\n",
        "\n",
        "# Visualize the revenue curve\n",
        "fig3 = px.line(data_frame=X_pred,\n",
        "               x='price', y='revenue',\n",
        "               color='season',\n",
        "               title='Revenue Curve | Fall = 0, Spring = 1, Summer = 2, Winter = 3',\n",
        "               labels={'x': 'Price', 'y': 'Revenue'},\n",
        "               width=1000, height=600)\n",
        "px.scatter(data_frame=X_pred, x='price', y='revenue', title='Revenue Curve', labels={'x': 'Price', 'y': 'Revenue'})\n",
        "\n",
        "for season in [0,1,2,3]:\n",
        "    max_revenue = X_pred.query('season == @season')['revenue'].max()\n",
        "    optimal_price = X_pred.query('season == @season & revenue == @max_revenue')['price'].values[0]\n",
        "    fig3.add_trace(go.Scatter(x=[optimal_price], y=[max_revenue], mode='markers',\n",
        "                              name=f'Max {season}', marker=dict(color='red')))\n",
        "fig3.update_traces(line=dict(width=3))\n",
        "fig3.show()"
      ],
      "metadata": {
        "id": "hFb4-lGQS55T"
      },
      "execution_count": null,
      "outputs": []
    },
    {
      "cell_type": "markdown",
      "source": [
        "## Matplotlib"
      ],
      "metadata": {
        "id": "GC8d96CpTpOl"
      }
    },
    {
      "cell_type": "code",
      "source": [
        "# Visualize the predicted demand curve\n",
        "plt.figure(figsize=(10, 5))\n",
        "plt.plot(prices, predicted_demand)\n",
        "plt.xlabel(\"Price\")\n",
        "plt.ylabel(\"Predicted Demand\")\n",
        "plt.title(\"Predicted Demand Curve\")\n",
        "plt.grid(True)\n",
        "plt.show()\n",
        "\n",
        "# Visualize the revenue curve\n",
        "plt.figure(figsize=(10, 5))\n",
        "plt.plot(prices, revenue)\n",
        "plt.xlabel(\"Price\")\n",
        "plt.ylabel(\"Revenue\")\n",
        "plt.title(\"Revenue Curve\")\n",
        "plt.grid(True)\n",
        "plt.show()"
      ],
      "metadata": {
        "id": "UxjA1ChvS53I"
      },
      "execution_count": null,
      "outputs": []
    },
    {
      "cell_type": "code",
      "source": [],
      "metadata": {
        "id": "XzNx36SuS50H"
      },
      "execution_count": null,
      "outputs": []
    }
  ],
  "metadata": {
    "colab": {
      "name": "Welcome To Colab",
      "toc_visible": true,
      "provenance": []
    },
    "kernelspec": {
      "display_name": "Python 3",
      "name": "python3"
    }
  },
  "nbformat": 4,
  "nbformat_minor": 0
}